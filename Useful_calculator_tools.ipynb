{
  "nbformat": 4,
  "nbformat_minor": 0,
  "metadata": {
    "colab": {
      "provenance": [],
      "authorship_tag": "ABX9TyPDY0QNN4zOQO1h1hSw172j",
      "include_colab_link": true
    },
    "kernelspec": {
      "name": "python3",
      "display_name": "Python 3"
    },
    "language_info": {
      "name": "python"
    }
  },
  "cells": [
    {
      "cell_type": "markdown",
      "metadata": {
        "id": "view-in-github",
        "colab_type": "text"
      },
      "source": [
        "<a href=\"https://colab.research.google.com/github/hongpenggg/calc/blob/main/Useful_calculator_tools.ipynb\" target=\"_parent\"><img src=\"https://colab.research.google.com/assets/colab-badge.svg\" alt=\"Open In Colab\"/></a>"
      ]
    },
    {
      "cell_type": "code",
      "execution_count": null,
      "metadata": {
        "colab": {
          "base_uri": "https://localhost:8080/"
        },
        "id": "VMYstwYed2JX",
        "outputId": "eb5c4a70-e8c6-4f33-8887-85ce643b9c1d"
      },
      "outputs": [
        {
          "output_type": "stream",
          "name": "stdout",
          "text": [
            "Enter your scores in decimals.\n",
            "For example: 75/100 would be 0.75, 100/100 would be 1.0, and 26/35 would be 0.7428...\n",
            "Enter as many digits as you like, but don't add anything that is not a number\n",
            "Enter your first test grade: 0.74285714285\n",
            "Enter your second test grade: 1.0\n",
            "Enter your third test grade: 0.88\n",
            "Enter your WA1/SA1 grade: 0.61\n",
            "Your overall percentage without promos is 77.5.\n",
            "Your individual percentages (for the final year) are 7.5, 6.6, 9.15.\n"
          ]
        }
      ],
      "source": [
        "# Percentage calculator for first term\n",
        "# Just click the run button\n",
        "\n",
        "import math, statistics\n",
        "\n",
        "def first_calc(a,b,c,d):\n",
        "  scoreList = [a,b,c]\n",
        "  first = max(scoreList)\n",
        "  scoreList.remove(first)\n",
        "  second = max(scoreList)\n",
        "  third = d\n",
        "  overall = first*25 + second*25 + third*50\n",
        "  indiv_a, indiv_b, indiv_c = first*7.5, second*7.5, third*15\n",
        "  print(f\"Your overall percentage without promos is {overall}.\")\n",
        "  return f\"Your individual percentages (for the final year) are {indiv_a}, {indiv_b}, {indiv_c}.\"\n",
        "\n",
        "def main_one():\n",
        "  print(\"Enter your scores in decimals.\")\n",
        "  print(\"For example: 75/100 would be 0.75, 100/100 would be 1.0, and 26/35 would be 0.7428...\")\n",
        "  print(\"Enter as many digits as you like, but don't add anything that is not a number\")\n",
        "\n",
        "  e = float(input(\"Enter your first test grade: \"))\n",
        "  f = float(input(\"Enter your second test grade: \"))\n",
        "  g = float(input(\"Enter your third test grade: \"))\n",
        "  h = float(input(\"Enter your WA1/SA1 grade: \"))\n",
        "\n",
        "  print(first_calc(e,f,g,h))\n",
        "\n",
        "main_one()"
      ]
    },
    {
      "cell_type": "code",
      "source": [
        "# Overall Percentage Calculator\n",
        "# Click the run button\n",
        "\n",
        "def overall_calc(a,b,c,d,e):\n",
        "  scoreList = [a,b,c]\n",
        "  first = max(scoreList)\n",
        "  scoreList.remove(first)\n",
        "  second = max(scoreList)\n",
        "  third = d\n",
        "  fourth = e\n",
        "  indiv_a, indiv_b, indiv_c, indiv_d = first*7.5, second*7.5, third*15, fourth*70\n",
        "  overall = sum([indiv_a, indiv_b, indiv_c, indiv_d])\n",
        "  print(f\"Your overall percentage is {overall}.\")\n",
        "  return f\"Your individual percentages (for the final year) are {indiv_a}, {indiv_b}, {indiv_c}, and {indiv_d}.\"\n",
        "\n",
        "def main_two():\n",
        "  print(\"Enter your scores in decimals.\")\n",
        "  print(\"For example: 75/100 would be 0.75, 100/100 would be 1.0, and 26/35 would be 0.7428...\")\n",
        "  print(\"Enter as many digits as you like, but don't add anything that is not a number\")\n",
        "\n",
        "  e = float(input(\"Enter your first test grade: \"))\n",
        "  f = float(input(\"Enter your second test grade: \"))\n",
        "  g = float(input(\"Enter your third test grade: \"))\n",
        "  h = float(input(\"Enter your WA1/SA1 grade: \"))\n",
        "  i = float(input(\"Enter your promos/SA2 grade: \"))\n",
        "\n",
        "  print(overall_calc(e,f,g,h,i))\n",
        "\n",
        "# main_two()\n",
        "print(overall_calc(0.643,0.643,0.643,0.16,0.33))"
      ],
      "metadata": {
        "colab": {
          "base_uri": "https://localhost:8080/"
        },
        "id": "5cmcUbZfh6Oo",
        "outputId": "225756dd-4176-4ff1-e2c9-a1580817aa40"
      },
      "execution_count": null,
      "outputs": [
        {
          "output_type": "stream",
          "name": "stdout",
          "text": [
            "Your overall percentage is 35.145.\n",
            "Your individual percentages (for the final year) are 4.8225, 4.8225, 2.4, and 23.1.\n"
          ]
        }
      ]
    },
    {
      "cell_type": "code",
      "source": [
        "# Cohort analysis\n",
        "\n",
        "# In development. Awaiting dataset."
      ],
      "metadata": {
        "id": "dmM8IL87ocJJ"
      },
      "execution_count": null,
      "outputs": []
    },
    {
      "cell_type": "code",
      "source": [
        "# The how much do I need calculator\n",
        "# Click run\n",
        "\n",
        "def howmuch_calc(a,b,c,d,e,f,g):\n",
        "  testScores = [a,b,c]\n",
        "  percentages = [d,e,f]\n",
        "  target = g\n",
        "  targetp = g*100\n",
        "  current = a*d + b*e + c*f\n",
        "  needs = targetp - current\n",
        "  needsp = (needs/70)*100\n",
        "\n",
        "  return f\"You need a percentage of {needsp}% on your extrapolated test.\"\n",
        "\n",
        "def howmuch_main():\n",
        "  print(\"Enter your scores in decimals.\")\n",
        "  print(\"For example: 75/100 would be 0.75, 100/100 would be 1.0, and 26/35 would be 0.7428...\")\n",
        "  print(\"Enter as many digits as you like, but don't add anything that is not a number\")\n",
        "  print(\"What is the test that you'd like to extrapolate?\")\n",
        "  print(\"Type - \\nA: Lecture Test(7.5%), \\nB: Mid-Years(15%), or \\nC: promos(70%).\")\n",
        "\n",
        "  ans = input(\"Choice: \")\n",
        "\n",
        "  if ans == \"A\" or ans == \"a\":\n",
        "    e = float(input(\"Enter your first test grade: \"))\n",
        "    f = float(input(\"Enter your WA1/SA1 grade: \"))\n",
        "    g = float(input(\"Enter your promos/SA2 grade: \"))\n",
        "    h = float(input(\"Enter the overall score you would like to obtain: \"))\n",
        "\n",
        "    print(howmuch_calc(e,f,g,7.5,15,70,h))\n",
        "\n",
        "  elif ans == \"B\" or ans == \"b\":\n",
        "    e = float(input(\"Enter your first test grade: \"))\n",
        "    f = float(input(\"Enter your second test grade: \"))\n",
        "    g = float(input(\"Enter your promos/SA2 grade: \"))\n",
        "    h = float(input(\"Enter the overall score you would like to obtain: \"))\n",
        "\n",
        "    print(howmuch_calc(e,f,g,7.5,7.5,70,h))\n",
        "\n",
        "  elif ans == \"C\" or ans == \"c\":\n",
        "    e = float(input(\"Enter your first test grade: \"))\n",
        "    f = float(input(\"Enter your second test grade: \"))\n",
        "    g = float(input(\"Enter your mid-years/SA1 grade: \"))\n",
        "    h = float(input(\"Enter the overall score you would like to obtain: \"))\n",
        "\n",
        "    print(howmuch_calc(e,f,g,7.5,7.5,15,h))\n",
        "\n",
        "  else:\n",
        "    raise ValueError\n",
        "\n",
        "howmuch_main()"
      ],
      "metadata": {
        "colab": {
          "base_uri": "https://localhost:8080/"
        },
        "id": "BMMsdNV1onsI",
        "outputId": "e7c5f55d-e4b5-45fd-91ce-d4a4ed68430b"
      },
      "execution_count": null,
      "outputs": [
        {
          "output_type": "stream",
          "name": "stdout",
          "text": [
            "Enter your scores in decimals.\n",
            "For example: 75/100 would be 0.75, 100/100 would be 1.0, and 26/35 would be 0.7428...\n",
            "Enter as many digits as you like, but don't add anything that is not a number\n",
            "What is the test that you'd like to extrapolate?\n",
            "Type - \n",
            "A: Lecture Test(7.5%), \n",
            "B: Mid-Years(15%), or \n",
            "C: promos(70%).\n",
            "Choice: c\n",
            "Enter your first test grade: 0.70\n",
            "Enter your second test grade: 0.71\n",
            "Enter your mid-years/SA1 grade: 0.78\n",
            "Enter the overall score you would like to obtain: 0.70\n",
            "You need a percentage of 68.17857142857143% on your extrapolated test.\n"
          ]
        }
      ]
    },
    {
      "cell_type": "code",
      "source": [
        "# The rank points calculator\n",
        "# Click run\n",
        "\n",
        "h2dict = {\n",
        "    \"A\": 20,\n",
        "    \"B\": 17.5,\n",
        "    \"C\": 15,\n",
        "    \"D\": 12.5,\n",
        "    \"E\": 10,\n",
        "    \"S\": 5,\n",
        "    \"U\": 0,\n",
        "}\n",
        "\n",
        "h1dict = {\n",
        "    \"A\": 10,\n",
        "    \"B\": 8.75,\n",
        "    \"C\": 7.5,\n",
        "    \"D\": 6.25,\n",
        "    \"E\": 5,\n",
        "    \"S\": 2.5,\n",
        "    \"U\": 0,\n",
        "}\n",
        "\n",
        "def grader(score):\n",
        "  grade = \"\"\n",
        "  if score >= 70 and score <= 100:\n",
        "    grade = \"A\"\n",
        "  elif score >= 60 and score <= 69:\n",
        "    grade = \"B\"\n",
        "  elif score >= 55 and score <= 59:\n",
        "    grade = \"C\"\n",
        "  elif score >= 50 and score <= 54:\n",
        "    grade = \"D\"\n",
        "  elif score >= 45 and score <= 49:\n",
        "    grade = \"E\"\n",
        "  elif score >= 40 and score <= 44:\n",
        "    grade = \"S\"\n",
        "  elif score >= 0 and score <= 39:\n",
        "    grade = \"U\"\n",
        "  else:\n",
        "    raise ValueError\n",
        "  return grade\n",
        "\n",
        "def rank_calc(a,b,c,d,e):\n",
        "  h1 = a\n",
        "  h1grade = grader(h1)\n",
        "  h1rp = h1dict[h1grade]\n",
        "\n",
        "  h2 = [b,c,d]\n",
        "  h2grade = [grader(b),grader(c),grader(d)]\n",
        "  h2rp = []\n",
        "  for item in h2grade:\n",
        "    h2rp.append(h2dict[item])\n",
        "\n",
        "  gp = e\n",
        "  gpgrade = grader(gp)\n",
        "  gprp = h1dict[gpgrade]\n",
        "\n",
        "  global rp_overall\n",
        "  rp_overall = sum([h1rp, sum(h2rp), gprp])\n",
        "\n",
        "  print(f\"Your overall rp is {rp_overall}.\")\n",
        "  return f\"Your individual rps are: {[h1rp] + h2rp + [gprp]}\"\n",
        "\n",
        "def rp_main():\n",
        "  print(\"Enter your scores out of 100.\")\n",
        "  print(\"For example: 75/100 would be 75, 100/100 would be 100, and 26/35 would be 74.28...\")\n",
        "  print(\"Enter as many digits as you like, but don't add anything that is not a number\")\n",
        "\n",
        "  e = float(input(\"Enter your lowest H2 subject/H1 subject grade: \"))\n",
        "  f = float(input(\"Enter your second-lowest H2 subject grade: \"))\n",
        "  g = float(input(\"Enter your second-highest H2 subject grade: \"))\n",
        "  h = float(input(\"Enter your highest H2 subject grade: \"))\n",
        "  i = float(input(\"Enter your GP grade: \"))\n",
        "  j = input(\"Enter your PW grade (if applicable): \")\n",
        "\n",
        "  if len(j) > 1:\n",
        "    j = float(j)\n",
        "    pwgrade = grader(j)\n",
        "    pwrp = h1dict[pwgrade]\n",
        "    print(f\"Add {pwrp} to your rp.\")\n",
        "    print(rank_calc(e,f,g,h,i))\n",
        "    print(f\"Overall rp = {pwrp + rp_overall}\")\n",
        "  else:\n",
        "    print(rank_calc(e,f,g,h,i))\n",
        "\n",
        "rp_main()"
      ],
      "metadata": {
        "colab": {
          "base_uri": "https://localhost:8080/"
        },
        "id": "vyV-IfrNoy8H",
        "outputId": "f7bdfb65-e7bb-447a-aca6-58c52420156e"
      },
      "execution_count": null,
      "outputs": [
        {
          "output_type": "stream",
          "name": "stdout",
          "text": [
            "Enter your scores out of 100.\n",
            "For example: 75/100 would be 75, 100/100 would be 100, and 26/35 would be 74.28...\n",
            "Enter as many digits as you like, but don't add anything that is not a number\n",
            "Enter your lowest H2 subject/H1 subject grade: 61\n",
            "Enter your second-lowest H2 subject grade: 62\n",
            "Enter your second-highest H2 subject grade: 64\n",
            "Enter your highest H2 subject grade: 71\n",
            "Enter your GP grade: 62\n",
            "Enter your PW grade (if applicable): 0\n",
            "Your overall rp is 72.5.\n",
            "Your individual rps are: [8.75, 17.5, 17.5, 20, 8.75]\n"
          ]
        }
      ]
    },
    {
      "cell_type": "code",
      "source": [
        "def grader(score):\n",
        "  grade = \"\"\n",
        "  if score >= 70 and score <= 100:\n",
        "    grade = \"A\"\n",
        "  elif score >= 60 and score <= 69:\n",
        "    grade = \"B\"\n",
        "  elif score >= 55 and score <= 59:\n",
        "    grade = \"C\"\n",
        "  elif score >= 50 and score <= 54:\n",
        "    grade = \"D\"\n",
        "  elif score >= 45 and score <= 49:\n",
        "    grade = \"E\"\n",
        "  elif score >= 40 and score <= 44:\n",
        "    grade = \"S\"\n",
        "  elif score >= 0 and score <= 39:\n",
        "    grade = \"U\"\n",
        "  else:\n",
        "    raise ValueError\n",
        "  return grade\n",
        "\n",
        "print(grader(68))"
      ],
      "metadata": {
        "colab": {
          "base_uri": "https://localhost:8080/"
        },
        "id": "dGR9xoZ97shJ",
        "outputId": "2d2fb18e-47c0-4f76-c380-0913d038118f"
      },
      "execution_count": null,
      "outputs": [
        {
          "output_type": "stream",
          "name": "stdout",
          "text": [
            "B\n"
          ]
        }
      ]
    }
  ]
}